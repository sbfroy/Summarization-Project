{
 "cells": [
  {
   "cell_type": "code",
   "execution_count": 13,
   "id": "ab162191",
   "metadata": {},
   "outputs": [],
   "source": [
    "import sys\n",
    "import os\n",
    "\n",
    "sys.path.append(os.path.abspath(os.path.join(os.getcwd(), \"..\")))"
   ]
  },
  {
   "cell_type": "code",
   "execution_count": 14,
   "id": "00962b9d",
   "metadata": {},
   "outputs": [],
   "source": [
    "from pathlib import Path\n",
    "from src.utils.config_loader import load_config\n",
    "\n",
    "base_dir = Path(os.getcwd()).parent\n",
    "\n",
    "config = load_config(base_dir / 'secrets.yaml')"
   ]
  },
  {
   "cell_type": "code",
   "execution_count": 15,
   "id": "3e334a80",
   "metadata": {},
   "outputs": [],
   "source": [
    "from langchain_openai import AzureChatOpenAI\n",
    "from langchain_core.messages import (SystemMessage, HumanMessage)\n",
    "\n",
    "os.environ['OPENAI_API_VERSION'] = config['OPENAI_API_VERSION']\n",
    "os.environ['AZURE_OPENAI_ENDPOINT'] = config['OPENAI_API_BASE']\n",
    "os.environ['AZURE_OPENAI_API_KEY'] = config['OPENAI_API_KEY']\n",
    "\n",
    "llm = AzureChatOpenAI(\n",
    "    deployment_name=config['OPENAI_DEPLOYMENT_NAME'],\n",
    "    temperature=0.0\n",
    ")"
   ]
  },
  {
   "cell_type": "code",
   "execution_count": 16,
   "id": "588a6fd5",
   "metadata": {},
   "outputs": [],
   "source": [
    "import json\n",
    "\n",
    "with open(base_dir / 'data/val_set.json', 'r') as f:\n",
    "    data = json.load(f)"
   ]
  },
  {
   "cell_type": "code",
   "execution_count": 17,
   "id": "fc1e85c1",
   "metadata": {},
   "outputs": [
    {
     "name": "stdout",
     "output_type": "stream",
     "text": [
      "Eksempel 1:\n",
      "Versjon 1:\n",
      "5. Bestemmelser til bestemmelsesområder  5.1 Bestemmelser til bestemmelsesområde (område #1, #Masseutak) • Innenfor området tillates det uttak av masser.  • Anleggsarbeid skal ikke skje i påska (Skjærtorsdag - 2.påskedag), pinse (pinseaften 2.pinsedag), jul (Julaften - 2. juledag), nyttårshelg eller offentlige høytidsdager. • Driftstid skal avgrenses til 08.00-20.00, mandag - torsdag. • Ved støvplager skal det iverksetters avbøtende tiltak som for eksempel vanning, salting eller liknede • Uttaksområdet skal deles opp i etapper. Hver etappe skal ha en avslutningsplan. Ved opphør av utbygging over 2 år skal massetaket avsluttes og tiltakene i avslutningsplanen skal gjennomføres. \n",
      "\n",
      "Versjon 2:\n",
      "\n",
      "\n",
      "Oppsummering:\n",
      "Hele bestemmelsen for bestemmelsesområde #1 Masseutak er fjernet, inkludert tillatelse til masseuttak, arbeidstidsbegrensninger, krav om avbøtende tiltak, etappevis uttak og avslutningsplan.\n",
      "##\n",
      "\n",
      "Eksempel 2:\n",
      "Versjon 1:\n",
      "Belysning av fellesområder skal utformes slik at det ikke oppstår lysforurensning mot nærliggende naturområder.\n",
      "\n",
      "Versjon 2:\n",
      "Belysning av fellesområder skal utformes i tråd med kommunens retningslinjer for utendørs belysning.\n",
      "\n",
      "Oppsummering:\n",
      "Kravet om å unngå lysforurensning mot naturområder er erstattet med henvisning til kommunale retningslinjer.\n",
      "##\n",
      "\n",
      "Eksempel 3:\n",
      "Versjon 1:\n",
      "Før igangsetting av anleggsarbeidene skal det utarbeides en teknisk plan for gjennomføringen av tiltaket. Denne planen skal godkjennes av kommunen før arbeidene starter. Teknisk plan skal inneholde en beskrivelse av de tekniske løsningene som skal benyttes, herunder blant annet vann- og avløpsløsninger, brannvann og overvannshåndtering. \n",
      "\n",
      "Versjon 2:\n",
      "Før igangsetting av anleggsarbeidene skal det utarbeides en teknisk plan for gjennomføringen av tiltaket. Denne planen skal godkjennes av kommunen før arbeidene starter. Teknisk plan skal inneholde en beskrivelse av de tekniske løsningene som skal benyttes, herunder blant annet vann- og avløpsløsninger og overvannshåndtering. \n",
      "\n",
      "Oppsummering:\n",
      "Brannvann er fjernet fra kravene til innhold i teknisk plan.\n",
      "##\n",
      "\n"
     ]
    }
   ],
   "source": [
    "def format_examples(example_subset): \n",
    "    # Formats the examples into a string for later prompt\n",
    "    formatted = []\n",
    "    for i, ex in enumerate(example_subset):\n",
    "        formatted.append(\n",
    "            f\"Eksempel {i+1}:\\n\"\n",
    "            f\"Versjon 1:\\n{ex['version_1']}\\n\\n\"\n",
    "            f\"Versjon 2:\\n{ex['version_2']}\\n\\n\"\n",
    "            f\"Oppsummering:\\n{ex['ref_summary']}\\n##\\n\"\n",
    "        )\n",
    "    \n",
    "    return \"\\n\".join(formatted)\n",
    "\n",
    "#ids = [27]\n",
    "ids = [14, 22, 15]\n",
    "\n",
    "examples = [next(ex for ex in data if ex[\"id\"] == id) for id in ids]\n",
    "\n",
    "formatted_examples = format_examples(examples)\n",
    "\n",
    "print(formatted_examples)"
   ]
  },
  {
   "cell_type": "code",
   "execution_count": 18,
   "id": "bdd16028",
   "metadata": {},
   "outputs": [
    {
     "name": "stderr",
     "output_type": "stream",
     "text": [
      "100%|██████████| 35/35 [05:06<00:00,  8.76s/it]\n"
     ]
    }
   ],
   "source": [
    "from tqdm import tqdm\n",
    "\n",
    "with open(base_dir / 'data/val_set.json', 'r') as f:\n",
    "    test_set = json.load(f)\n",
    "\n",
    "results = []\n",
    "\n",
    "data_sample = test_set\n",
    "\n",
    "for item in tqdm(data_sample):\n",
    "\n",
    "    version_1 = item['version_1']\n",
    "    version_2 = item['version_2']\n",
    "    ref_summary = item['ref_summary']\n",
    "\n",
    "    msg = [\n",
    "    SystemMessage(\n",
    "        content=(\n",
    "            \"Du er en fagperson med ekspertise innen arealplanlegging og \"\n",
    "            \"reguleringsplaner. Din oppgave er å bistå saksbehandlere med å \"\n",
    "            \"identifisere og oppsummere forskjellene mellom to versjoner av \"\n",
    "            \"tekst hentet fra en reguleringsplan. Oppsummeringen skal være så \"\n",
    "            \"kort som mulig, men fortsatt tydelig og informativ. Unngå unødvendige \"\n",
    "            \"detaljer. Dersom versjon 1 inneholder tekst, men ikke versjon 2, betyr \"\n",
    "            \"det at teksten har blitt fjernet. Hvis det er omvendt har teksten blitt \"\n",
    "            \"lagt til. Ikke referer til versjon 1 eller versjon 2 i oppsummeringen. \"\n",
    "            \"Beskriv kun hva som er fjernet, lagt til eller endret.\"\n",
    "        )\n",
    "    ),\n",
    "    HumanMessage(\n",
    "        content=f\"\"\"\\\n",
    "Bruk eksemplene som hjelp til å velge riktig ord.\n",
    "\n",
    "{formatted_examples}\n",
    "               \n",
    "Oppsummer forskjellene mellom følgende to versjoner:\n",
    "\n",
    "Versjon 1:\n",
    "{version_1}\n",
    "\n",
    "Versjon 2:\n",
    "{version_2}\n",
    "\n",
    "Oppsummering:\n",
    "\"\"\"\n",
    "    )\n",
    "]\n",
    "\n",
    "    try: \n",
    "        response = llm.invoke(msg)\n",
    "\n",
    "        results.append({\n",
    "            'id': item['id'],\n",
    "            'ref_summary': ref_summary,\n",
    "            'model_summary': response.content\n",
    "        })\n",
    "\n",
    "    except Exception as e:\n",
    "        print(f\"Error: {e}\")\n",
    "        continue"
   ]
  },
  {
   "cell_type": "code",
   "execution_count": 19,
   "id": "114cf045",
   "metadata": {},
   "outputs": [],
   "source": [
    "with open(base_dir / f\"results/{config['OPENAI_DEPLOYMENT_NAME']}/{config['OPENAI_DEPLOYMENT_NAME']}_TESTSET.jsonl\", \"w\") as f:\n",
    "    for result in results:\n",
    "        json.dump(result, f, ensure_ascii=False)\n",
    "        f.write('\\n')"
   ]
  }
 ],
 "metadata": {
  "kernelspec": {
   "display_name": "ml_env",
   "language": "python",
   "name": "python3"
  },
  "language_info": {
   "codemirror_mode": {
    "name": "ipython",
    "version": 3
   },
   "file_extension": ".py",
   "mimetype": "text/x-python",
   "name": "python",
   "nbconvert_exporter": "python",
   "pygments_lexer": "ipython3",
   "version": "3.12.2"
  }
 },
 "nbformat": 4,
 "nbformat_minor": 5
}
