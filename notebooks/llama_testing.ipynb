{
 "cells": [
  {
   "cell_type": "code",
   "execution_count": null,
   "id": "070559dc",
   "metadata": {},
   "outputs": [],
   "source": [
    "import sys\n",
    "import os\n",
    "\n",
    "sys.path.append(os.path.abspath(os.path.join(os.getcwd(), \"..\")))"
   ]
  },
  {
   "cell_type": "code",
   "execution_count": null,
   "id": "0a37492f",
   "metadata": {},
   "outputs": [],
   "source": [
    "from pathlib import Path\n",
    "from src.utils.config_loader import load_config\n",
    "\n",
    "base_dir = Path(os.getcwd()).parent\n",
    "\n",
    "config = load_config(base_dir / 'secrets.yaml')"
   ]
  },
  {
   "cell_type": "code",
   "execution_count": null,
   "id": "76fe6c93",
   "metadata": {},
   "outputs": [],
   "source": [
    "import torch\n",
    "import transformers\n",
    "\n",
    "class LlamaForSummarization:\n",
    "    def __init__(self, model_path: str):\n",
    "        self.model_id = model_path\n",
    "        self.pipeline = transformers.pipeline(\n",
    "            'text-generation',\n",
    "            model=self.model_id,\n",
    "            model_kwargs={'torch_dtype': torch.float16} # FP16 for faster inference\n",
    "        )\n",
    "        tokenizer = self.pipeline.tokenizer\n",
    "        tokenizer.pad_token_id = tokenizer.eos_token_id \n",
    "\n",
    "        self.terminators = tokenizer.eos_token_id\n",
    "  \n",
    "    def format_prompt(self, v1, v2, ref):\n",
    "        prompt = f\"\"\"\n",
    "    You are a helpful assistant. Your task is to summarize the changes between two versions of a text.\n",
    "\n",
    "    The first version is: {v1}\n",
    "    \n",
    "    The second version is: {v2}\n",
    "    \n",
    "    Please provide a summary of the changes between the two versions.\n",
    "\n",
    "\n",
    "    \"\"\"\n",
    "        return prompt\n",
    "\n",
    "    def summarize(self, v1, v2, ref, max_tokens=50, temperature=0.0, top_p=0.9):\n",
    "\n",
    "        prompt = self.format_prompt(v1, v2, ref) \n",
    "\n",
    "        outputs = self.pipeline(\n",
    "            prompt,\n",
    "            max_new_tokens=max_tokens,\n",
    "            eos_token_id=self.terminators,\n",
    "            pad_token_id=self.terminators,\n",
    "            do_sample=False, \n",
    "            temperature=temperature, \n",
    "            top_p=top_p \n",
    "        )\n",
    "        \n",
    "        generated_text = outputs[0]['generated_text'][len(prompt):].strip()\n",
    "       \n",
    "        return generated_text"
   ]
  },
  {
   "cell_type": "code",
   "execution_count": null,
   "id": "9dbd4c14",
   "metadata": {},
   "outputs": [],
   "source": [
    "import json\n",
    "\n",
    "with open(base_dir / 'data/val_set.json', 'r') as f:\n",
    "    data = json.load(f)"
   ]
  },
  {
   "cell_type": "code",
   "execution_count": null,
   "id": "dc92f1dc",
   "metadata": {},
   "outputs": [],
   "source": [
    "from tqdm import tqdm\n",
    "\n",
    "model_path = 'meta-llama/Meta-Llama-3-8B-Instruct' \n",
    "model = LlamaForSummarization(model_path)\n",
    "\n",
    "results = []\n",
    "\n",
    "data_sample = data[:1]\n",
    "\n",
    "for item in tqdm(data_sample):\n",
    "\n",
    "    version_1 = item['version_1']\n",
    "    version_2 = item['version_2']\n",
    "    ref_summary = item['ref_summary'] \n",
    "\n",
    "    output = model.summarize(version_1, version_2, ref_summary)\n",
    "\n",
    "    results.append({\n",
    "            'id': item['id'],\n",
    "            'ref_summary': ref_summary,\n",
    "            'model_summary': output['generated_text'],\n",
    "        })"
   ]
  },
  {
   "cell_type": "code",
   "execution_count": null,
   "id": "55fc722c",
   "metadata": {},
   "outputs": [],
   "source": [
    "with open(base_dir / 'results/Meta-Llama-3-8B-Instruct_ZEROSHOT.jsonl', 'w') as f:\n",
    "    for result in results:\n",
    "        json.dump(result, f, ensure_ascii=False)\n",
    "        f.write('\\n')"
   ]
  }
 ],
 "metadata": {
  "kernelspec": {
   "display_name": "summarization_project",
   "language": "python",
   "name": "python3"
  },
  "language_info": {
   "name": "python",
   "version": "3.10.16"
  }
 },
 "nbformat": 4,
 "nbformat_minor": 5
}
