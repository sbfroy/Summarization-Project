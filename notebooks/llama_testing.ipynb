{
 "cells": [
  {
   "cell_type": "code",
   "execution_count": 1,
   "id": "070559dc",
   "metadata": {},
   "outputs": [],
   "source": [
    "import sys\n",
    "import os\n",
    "\n",
    "sys.path.append(os.path.abspath(os.path.join(os.getcwd(), \"..\")))"
   ]
  },
  {
   "cell_type": "code",
   "execution_count": 2,
   "id": "0a37492f",
   "metadata": {},
   "outputs": [],
   "source": [
    "from pathlib import Path\n",
    "from src.utils.config_loader import load_config\n",
    "\n",
    "base_dir = Path(os.getcwd()).parent\n",
    "\n",
    "config = load_config(base_dir / 'secrets.yaml')"
   ]
  },
  {
   "cell_type": "code",
   "execution_count": 3,
   "id": "e8db11c7-5502-4c55-990c-e944b9251dfa",
   "metadata": {},
   "outputs": [],
   "source": [
    "import json\n",
    "\n",
    "with open(base_dir / 'data/val_set.json', 'r') as f:\n",
    "    data = json.load(f)"
   ]
  },
  {
   "cell_type": "code",
   "execution_count": 4,
   "id": "9e86221f-adaa-4735-80d2-617a19e39c36",
   "metadata": {},
   "outputs": [
    {
     "name": "stdout",
     "output_type": "stream",
     "text": [
      "Eksempel 1:\n",
      "Versjon 1:\n",
      "Det tillates maks en boenhet per tomt.\n",
      "\n",
      "Versjon 2:\n",
      "Det tillates inntil to boenheter per tomt.\n",
      "\n",
      "Oppsummering:\n",
      "Tillatt antall boenheter per tomt er økt fra en til to.\n",
      "##\n",
      "\n"
     ]
    }
   ],
   "source": [
    "def format_examples(example_subset): \n",
    "    # Formats the examples into a string for later prompt\n",
    "    formatted = []\n",
    "    for i, ex in enumerate(example_subset):\n",
    "        formatted.append(\n",
    "            f\"Eksempel {i+1}:\\n\"\n",
    "            f\"Versjon 1:\\n{ex['version_1']}\\n\\n\"\n",
    "            f\"Versjon 2:\\n{ex['version_2']}\\n\\n\"\n",
    "            f\"Oppsummering:\\n{ex['ref_summary']}\\n##\\n\"\n",
    "        )\n",
    "    \n",
    "    return \"\\n\".join(formatted)\n",
    "\n",
    "ids = [27]\n",
    "#ids = [27, 39, 23]\n",
    "\n",
    "examples = [next(ex for ex in data if ex[\"id\"] == id) for id in ids]\n",
    "\n",
    "formatted_examples = format_examples(examples)\n",
    "\n",
    "print(formatted_examples)"
   ]
  },
  {
   "cell_type": "code",
   "execution_count": null,
   "id": "76fe6c93",
   "metadata": {},
   "outputs": [],
   "source": [
    "import torch\n",
    "import transformers\n",
    "\n",
    "class LlamaForSummarization:\n",
    "    def __init__(self, model_path: str):\n",
    "        self.model_id = model_path\n",
    "        self.pipeline = transformers.pipeline(\n",
    "            'text-generation',\n",
    "            model=self.model_id,\n",
    "            model_kwargs={'torch_dtype': torch.float16} # FP16 for faster inference\n",
    "        )\n",
    "        tokenizer = self.pipeline.tokenizer\n",
    "        tokenizer.pad_token_id = tokenizer.eos_token_id \n",
    "\n",
    "        self.terminators = tokenizer.eos_token_id\n",
    "  \n",
    "    def format_prompt(self, v1, v2):\n",
    "        prompt = f\"\"\"\\\n",
    "    Du er en fagperson med ekspertise innen arealplanlegging og reguleringsplaner. Din oppgave er å bistå saksbehandlere med å identifisere og oppsummere forskjellene mellom to versjoner av tekst hentet fra en reguleringsplan. Dersom versjon 1 inneholder tekst, men ikke versjon 2, betyr det at teksten har blitt fjernet. Hvis det er omvendt har teksten blitt lagt til. Ikke referer til versjon 1 eller versjon 2 i oppsummeringen. Beskriv kun hva som er fjernet, lagt til eller endret.\n",
    "\n",
    "    - Oppsummeringen skal være så kort som mulig.\n",
    "    - Unngå unødvendige detaljer.\n",
    "    - Svar utelukkende med oppsummeringsteksten.\n",
    "\n",
    "    Bruk eksemplene som hjelp til å velge riktig ord.\n",
    "\n",
    "    {formatted_examples}\n",
    "\n",
    "    Oppsummer forskjellene mellom følgende to versjoner:\n",
    "\n",
    "    Versjon 1:\n",
    "    {v1}\n",
    "    \n",
    "    Versjon 2:\n",
    "    {v2}\n",
    "    \n",
    "    Oppsummering:\n",
    "    \"\"\"\n",
    "        return prompt\n",
    "\n",
    "    def summarize(self, v1, v2, max_tokens=50, temperature=0.0, top_p=0.9):\n",
    "\n",
    "        prompt = self.format_prompt(v1, v2) \n",
    "\n",
    "        outputs = self.pipeline(\n",
    "            prompt,\n",
    "            max_new_tokens=max_tokens,\n",
    "            eos_token_id=self.terminators,\n",
    "            pad_token_id=self.terminators,\n",
    "            do_sample=False, \n",
    "            temperature=temperature, \n",
    "            top_p=top_p \n",
    "        )\n",
    "        \n",
    "        generated_text = outputs[0]['generated_text'][len(prompt):].strip()\n",
    "       \n",
    "        return generated_text"
   ]
  },
  {
   "cell_type": "code",
   "execution_count": 6,
   "id": "9dbd4c14",
   "metadata": {},
   "outputs": [],
   "source": [
    "import json\n",
    "\n",
    "with open(base_dir / 'data/val_set.json', 'r') as f:\n",
    "    data = json.load(f)"
   ]
  },
  {
   "cell_type": "code",
   "execution_count": null,
   "id": "dc92f1dc",
   "metadata": {},
   "outputs": [
    {
     "data": {
      "application/vnd.jupyter.widget-view+json": {
       "model_id": "32de591bdc5e4a4ab3174bbe00e41098",
       "version_major": 2,
       "version_minor": 0
      },
      "text/plain": [
       "Loading checkpoint shards:   0%|          | 0/4 [00:00<?, ?it/s]"
      ]
     },
     "metadata": {},
     "output_type": "display_data"
    },
    {
     "name": "stderr",
     "output_type": "stream",
     "text": [
      "Device set to use cuda:0\n",
      "  0%|          | 0/35 [00:00<?, ?it/s]/opt/conda/lib/python3.11/site-packages/transformers/generation/configuration_utils.py:631: UserWarning: `do_sample` is set to `False`. However, `temperature` is set to `0.0` -- this flag is only used in sample-based generation modes. You should set `do_sample=True` or unset `temperature`.\n",
      "  warnings.warn(\n",
      "/opt/conda/lib/python3.11/site-packages/transformers/generation/configuration_utils.py:636: UserWarning: `do_sample` is set to `False`. However, `top_p` is set to `0.9` -- this flag is only used in sample-based generation modes. You should set `do_sample=True` or unset `top_p`.\n",
      "  warnings.warn(\n",
      " 29%|██▊       | 10/35 [00:15<00:37,  1.48s/it]You seem to be using the pipelines sequentially on GPU. In order to maximize efficiency please use a dataset\n",
      "100%|██████████| 35/35 [00:53<00:00,  1.54s/it]\n"
     ]
    }
   ],
   "source": [
    "from tqdm import tqdm\n",
    "\n",
    "model_path = 'meta-llama/Meta-Llama-3-8B-Instruct' \n",
    "model = LlamaForSummarization(model_path)\n",
    "\n",
    "results = []\n",
    "\n",
    "data_sample = data #data[:1]\n",
    "\n",
    "for item in tqdm(data_sample):\n",
    "\n",
    "    version_1 = item['version_1']\n",
    "    version_2 = item['version_2']\n",
    "    ref_summary = item['ref_summary'] \n",
    "\n",
    "    output = model.summarize(version_1, version_2)\n",
    "\n",
    "    results.append({\n",
    "            'id': item['id'],\n",
    "            'ref_summary': ref_summary,\n",
    "            'model_summary': output\n",
    "        })"
   ]
  },
  {
   "cell_type": "code",
   "execution_count": 8,
   "id": "55fc722c",
   "metadata": {},
   "outputs": [],
   "source": [
    "with open(base_dir / 'results/Meta-Llama-3-8B-Instruct_NOR_ONESHOT.jsonl', 'w') as f:\n",
    "    for result in results:\n",
    "        json.dump(result, f, ensure_ascii=False)\n",
    "        f.write('\\n')"
   ]
  }
 ],
 "metadata": {
  "kernelspec": {
   "display_name": "summarization_project",
   "language": "python",
   "name": "python3"
  },
  "language_info": {
   "codemirror_mode": {
    "name": "ipython",
    "version": 3
   },
   "file_extension": ".py",
   "mimetype": "text/x-python",
   "name": "python",
   "nbconvert_exporter": "python",
   "pygments_lexer": "ipython3",
   "version": "3.10.16"
  }
 },
 "nbformat": 4,
 "nbformat_minor": 5
}
