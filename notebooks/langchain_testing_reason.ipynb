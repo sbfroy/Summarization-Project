{
 "cells": [
  {
   "cell_type": "code",
   "execution_count": 10,
   "id": "ab162191",
   "metadata": {},
   "outputs": [],
   "source": [
    "import sys\n",
    "import os\n",
    "\n",
    "sys.path.append(os.path.abspath(os.path.join(os.getcwd(), \"..\")))"
   ]
  },
  {
   "cell_type": "code",
   "execution_count": 11,
   "id": "00962b9d",
   "metadata": {},
   "outputs": [],
   "source": [
    "from pathlib import Path\n",
    "from src.utils.config_loader import load_config\n",
    "\n",
    "base_dir = Path(os.getcwd()).parent\n",
    "\n",
    "config = load_config(base_dir / 'secrets.yaml')"
   ]
  },
  {
   "cell_type": "code",
   "execution_count": null,
   "id": "3e334a80",
   "metadata": {},
   "outputs": [],
   "source": [
    "from langchain_openai import AzureChatOpenAI\n",
    "from langchain_core.messages import HumanMessage\n",
    "\n",
    "os.environ['OPENAI_API_VERSION'] = config['OPENAI_API_VERSION']\n",
    "os.environ['AZURE_OPENAI_ENDPOINT'] = config['OPENAI_API_BASE']\n",
    "os.environ['AZURE_OPENAI_API_KEY'] = config['OPENAI_API_KEY']\n",
    "\n",
    "llm = AzureChatOpenAI(\n",
    "    deployment_name=config['OPENAI_DEPLOYMENT_NAME']\n",
    ")"
   ]
  },
  {
   "cell_type": "code",
   "execution_count": null,
   "id": "588a6fd5",
   "metadata": {},
   "outputs": [],
   "source": [
    "import json\n",
    "\n",
    "with open(base_dir / 'data/val_set.json', 'r') as f:\n",
    "    data = json.load(f)"
   ]
  },
  {
   "cell_type": "code",
   "execution_count": null,
   "id": "bdd16028",
   "metadata": {},
   "outputs": [],
   "source": [
    "results = []\n",
    "\n",
    "data_sample = data[:1]\n",
    "\n",
    "for item in data_sample:\n",
    "\n",
    "    version_1 = item['version_1']\n",
    "    version_2 = item['version_2']\n",
    "    ref_summary = item['ref_summary']\n",
    "\n",
    "    prompt = f\"\"\"\n",
    "    You are a helpful assistant. Your task is to summarize the changes between two versions of a text.\n",
    "\n",
    "    The first version is: {version_1}\n",
    "    \n",
    "    The second version is: {version_2}\n",
    "    The reference summary is: {ref_summary}\n",
    "    Please provide a summary of the changes between the two versions.\n",
    "    \"\"\"\n",
    "\n",
    "    msg = [HumanMessage(content=prompt)]\n",
    "\n",
    "    try: \n",
    "        response = llm.invoke(msg)\n",
    "\n",
    "        results.append({\n",
    "            'id': item['id'],\n",
    "            'ref_summary': ref_summary,\n",
    "            'model_summary': response.content\n",
    "        })\n",
    "\n",
    "    except Exception as e:\n",
    "        print(f\"Error: {e}\")\n",
    "        continue"
   ]
  },
  {
   "cell_type": "code",
   "execution_count": 15,
   "id": "114cf045",
   "metadata": {},
   "outputs": [],
   "source": [
    "with open(base_dir / f\"results/{config['OPENAI_DEPLOYMENT_NAME']}_SHOT.jsonl\", \"w\") as f:\n",
    "    for result in results:\n",
    "        json.dump(result, f, ensure_ascii=False)\n",
    "        f.write('\\n')"
   ]
  }
 ],
 "metadata": {
  "kernelspec": {
   "display_name": "ml_env",
   "language": "python",
   "name": "python3"
  },
  "language_info": {
   "codemirror_mode": {
    "name": "ipython",
    "version": 3
   },
   "file_extension": ".py",
   "mimetype": "text/x-python",
   "name": "python",
   "nbconvert_exporter": "python",
   "pygments_lexer": "ipython3",
   "version": "3.12.2"
  }
 },
 "nbformat": 4,
 "nbformat_minor": 5
}
