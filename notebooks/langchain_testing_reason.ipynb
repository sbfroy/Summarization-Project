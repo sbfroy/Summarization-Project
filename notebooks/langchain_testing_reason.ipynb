{
 "cells": [
  {
   "cell_type": "code",
   "execution_count": 36,
   "id": "ab162191",
   "metadata": {},
   "outputs": [],
   "source": [
    "import sys\n",
    "import os\n",
    "\n",
    "sys.path.append(os.path.abspath(os.path.join(os.getcwd(), \"..\")))"
   ]
  },
  {
   "cell_type": "code",
   "execution_count": 37,
   "id": "00962b9d",
   "metadata": {},
   "outputs": [],
   "source": [
    "from pathlib import Path\n",
    "from src.utils.config_loader import load_config\n",
    "\n",
    "base_dir = Path(os.getcwd()).parent\n",
    "\n",
    "config = load_config(base_dir / 'secrets.yaml')"
   ]
  },
  {
   "cell_type": "code",
   "execution_count": 38,
   "id": "3e334a80",
   "metadata": {},
   "outputs": [],
   "source": [
    "from langchain_openai import AzureChatOpenAI\n",
    "from langchain_core.messages import HumanMessage\n",
    "\n",
    "os.environ['OPENAI_API_VERSION'] = config['OPENAI_API_VERSION']\n",
    "os.environ['AZURE_OPENAI_ENDPOINT'] = config['OPENAI_API_BASE']\n",
    "os.environ['AZURE_OPENAI_API_KEY'] = config['OPENAI_API_KEY']\n",
    "\n",
    "llm = AzureChatOpenAI(\n",
    "    deployment_name=config['OPENAI_DEPLOYMENT_NAME']\n",
    ")"
   ]
  },
  {
   "cell_type": "code",
   "execution_count": 39,
   "id": "588a6fd5",
   "metadata": {},
   "outputs": [],
   "source": [
    "import json\n",
    "\n",
    "with open(base_dir / 'data/val_set.json', 'r') as f:\n",
    "    data = json.load(f)"
   ]
  },
  {
   "cell_type": "code",
   "execution_count": 40,
   "id": "6b9f8bcd",
   "metadata": {},
   "outputs": [
    {
     "name": "stdout",
     "output_type": "stream",
     "text": [
      "Eksempel 1:\n",
      "Versjon 1:\n",
      "Det tillates maks en boenhet per tomt.\n",
      "\n",
      "Versjon 2:\n",
      "Det tillates inntil to boenheter per tomt.\n",
      "\n",
      "Oppsummering:\n",
      "Tillatt antall boenheter per tomt er økt fra en til to.\n",
      "##\n",
      "\n"
     ]
    }
   ],
   "source": [
    "def format_examples(example_subset): \n",
    "    # Formats the examples into a string for later prompt\n",
    "    formatted = []\n",
    "    for i, ex in enumerate(example_subset):\n",
    "        formatted.append(\n",
    "            f\"Eksempel {i+1}:\\n\"\n",
    "            f\"Versjon 1:\\n{ex['version_1']}\\n\\n\"\n",
    "            f\"Versjon 2:\\n{ex['version_2']}\\n\\n\"\n",
    "            f\"Oppsummering:\\n{ex['ref_summary']}\\n##\\n\"\n",
    "        )\n",
    "    \n",
    "    return \"\\n\".join(formatted)\n",
    "\n",
    "ids = [27]\n",
    "#ids = [27, 39, 23]\n",
    "\n",
    "examples = [next(ex for ex in data if ex[\"id\"] == id) for id in ids]\n",
    "\n",
    "formatted_examples = format_examples(examples)\n",
    "\n",
    "print(formatted_examples)"
   ]
  },
  {
   "cell_type": "code",
   "execution_count": 41,
   "id": "bdd16028",
   "metadata": {},
   "outputs": [
    {
     "name": "stderr",
     "output_type": "stream",
     "text": [
      "100%|██████████| 35/35 [02:16<00:00,  3.90s/it]\n"
     ]
    }
   ],
   "source": [
    "from tqdm import tqdm\n",
    "\n",
    "results = []\n",
    "\n",
    "data_sample = data #[:1]\n",
    "\n",
    "for item in tqdm(data_sample):\n",
    "\n",
    "    version_1 = item['version_1']\n",
    "    version_2 = item['version_2']\n",
    "    ref_summary = item['ref_summary']\n",
    "\n",
    "    prompt = f\"\"\"\\\n",
    "You are an urban planning and regulatory documentation expert, specializing in Norwegian zoning plans. Your role is to assist case workers by identifying and clearly summarizing the differences between two versions of a zoning plan text. The summary should be as brief as possible, yet clear and informative. Avoid unnecessary details and write the summary in Norwegian. If version 1 contains text, but not version 2, it means the text has been removed. If it's the other way around, the text has been added. Do not refer to version 1 or version 2 in the summary. Only describe what has been removed, added, or changed.\n",
    "\n",
    "Summarize the differences between the following two versions:\n",
    "\n",
    "Version 1:\n",
    "{version_1}\n",
    "\n",
    "Version 2:\n",
    "{version_2}\n",
    "\n",
    "Summary:\n",
    "\"\"\"\n",
    "    \n",
    "    msg = [HumanMessage(content=prompt)]\n",
    "\n",
    "    try: \n",
    "        response = llm.invoke(msg)\n",
    "\n",
    "        results.append({\n",
    "            'id': item['id'],\n",
    "            'ref_summary': ref_summary,\n",
    "            'model_summary': response.content\n",
    "        })\n",
    "\n",
    "    except Exception as e:\n",
    "        print(f\"Error: {e}\")\n",
    "        continue"
   ]
  },
  {
   "cell_type": "code",
   "execution_count": 42,
   "id": "114cf045",
   "metadata": {},
   "outputs": [],
   "source": [
    "with open(base_dir / f\"results/{config['OPENAI_DEPLOYMENT_NAME']}/{config['OPENAI_DEPLOYMENT_NAME']}_ENG_ZEROSHOT.jsonl\", \"w\") as f:\n",
    "    for result in results:\n",
    "        json.dump(result, f, ensure_ascii=False)\n",
    "        f.write('\\n')"
   ]
  }
 ],
 "metadata": {
  "kernelspec": {
   "display_name": "ml_env",
   "language": "python",
   "name": "python3"
  },
  "language_info": {
   "codemirror_mode": {
    "name": "ipython",
    "version": 3
   },
   "file_extension": ".py",
   "mimetype": "text/x-python",
   "name": "python",
   "nbconvert_exporter": "python",
   "pygments_lexer": "ipython3",
   "version": "3.12.2"
  }
 },
 "nbformat": 4,
 "nbformat_minor": 5
}
